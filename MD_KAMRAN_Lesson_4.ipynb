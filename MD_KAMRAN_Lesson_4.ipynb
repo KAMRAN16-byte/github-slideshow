{
  "nbformat": 4,
  "nbformat_minor": 0,
  "metadata": {
    "colab": {
      "name": "MD KAMRAN - Lesson 4",
      "provenance": [],
      "collapsed_sections": [],
      "include_colab_link": true
    },
    "kernelspec": {
      "name": "python3",
      "display_name": "Python 3"
    }
  },
  "cells": [
    {
      "cell_type": "markdown",
      "metadata": {
        "id": "view-in-github",
        "colab_type": "text"
      },
      "source": [
        "<a href=\"https://colab.research.google.com/github/KAMRAN16-byte/github-slideshow/blob/Code-Python/MD_KAMRAN_Lesson_4.ipynb\" target=\"_parent\"><img src=\"https://colab.research.google.com/assets/colab-badge.svg\" alt=\"Open In Colab\"/></a>"
      ]
    },
    {
      "cell_type": "markdown",
      "metadata": {
        "id": "1Yq2bflbjz18"
      },
      "source": [
        "# Lesson 4: The `gameplay()` Function"
      ]
    },
    {
      "cell_type": "markdown",
      "metadata": {
        "id": "7LlG_PPFjJUz"
      },
      "source": [
        "### Teacher-Student Activities\n",
        "\n",
        "In the previous lesson, we created a slightly better version of the Mind Reader game algorithm by keeping the counts of the player inputs. Based on the player input, the computer predicted `0` or `1`, i.e., `'Heads'` or `'Tails'`. We also learnt how to create a user-defined function in Python and how to use them. However, we didn't quite fully cover the `gameplay()` function. In this lesson, we will learn the following: \n",
        "\n",
        "1. The working of the `gameplay()` function. \n",
        "\n",
        "2. Python list to unravel the mystery behind the `valid_entries = ['0', '1']` statement. \n",
        "\n",
        "3. The working of the `while player_input not in valid_entries` statement.\n",
        "\n",
        "4. The use of the `break` keyword.\n",
        "\n",
        "```\n",
        "def gameplay():\n",
        "  valid_entries = ['0', '1']\n",
        "  while True:\n",
        "    predicted = prediction()\n",
        "    player_input = input(\"Enter either 0 or 1: \")\n",
        "    while player_input not in valid_entries:\n",
        "      print(\"Invalid Input!\")\n",
        "      player_input = input(\"Please enter either 0 or 1: \")\n",
        "  \n",
        "    player_input = int(player_input)\n",
        "    update_counts(player_input)\n",
        "    update_scores(predicted, player_input)\n",
        "\n",
        "    if player_score == 10:\n",
        "      print(\"Congrats, You Won!\")\n",
        "      break\n",
        "    elif computer_score == 10:\n",
        "      print(\"Bad Luck, You Lost!\")\n",
        "      break\n",
        "```\n",
        "\n",
        "Let's get started."
      ]
    },
    {
      "cell_type": "markdown",
      "metadata": {
        "id": "A9DUkIzL8p6S"
      },
      "source": [
        "---"
      ]
    },
    {
      "cell_type": "markdown",
      "metadata": {
        "id": "jF60fIhH8q66"
      },
      "source": [
        "#### Activity 1: Python Lists\n",
        "\n",
        "The `gameplay()` function, begins with a Python list which is `valid_entries = ['0', '1']`. The list contains two string values. They are `'0'` and `'1'`.\n",
        "\n",
        "**What is a Python List**\n",
        "\n",
        "A Python list is a data structure which can contain more than one value at-a-time. For e.g., the `valid_entries` list contains two string values.\n",
        "\n",
        "A value in a list is generally referred to as an **item** or an **element**. Let's suppose that you want to store the names of the countries who won the FIFA world cup from `1982` till `2018`. \n",
        "\n",
        "|Year|Winner|\n",
        "|-|-|\n",
        "|1982|Italy|\n",
        "|1986|Argentina|\n",
        "|1990|Germany|\n",
        "|1994|Brazil|\n",
        "|1998|France|\n",
        "|2002|Brazil|\n",
        "|2006|Italy|\n",
        "|2010|Spain|\n",
        "|2014|Germany|\n",
        "|2018|France|\n",
        "\n",
        "In this, you would require a variable for every winner. But using a Python list, you can store all the winners in one go.\n",
        "\n",
        "A Python list is created using the square brackets `[]`. Each item in a Python list is separated by a comma.\n",
        "\n"
      ]
    },
    {
      "cell_type": "code",
      "metadata": {
        "id": "kRE_dZzB-Fy_",
        "colab": {
          "base_uri": "https://localhost:8080/",
          "height": 170
        },
        "outputId": "65ba8d89-0fc9-41f9-fd4f-58c47b22782d"
      },
      "source": [
        "# Teacher Action: Create a Python list containing all the winners of the FIFA world cup from 1982 to 2018. Store it in the 'fifa_wc_winners' variable.\n",
        "fifa_wc_winners = ['Italy','Argentina','Germany','Brazil','France','Brazil','Italy','Spain','Germany','France']\n",
        "fifa_wc_winners"
      ],
      "execution_count": null,
      "outputs": [
        {
          "output_type": "execute_result",
          "data": {
            "text/plain": [
              "['Italy',\n",
              " 'Argentina',\n",
              " 'Germany',\n",
              " 'Brazil',\n",
              " 'France',\n",
              " 'Brazil',\n",
              " 'Italy',\n",
              " 'Germany',\n",
              " 'France']"
            ]
          },
          "metadata": {
            "tags": []
          },
          "execution_count": 8
        }
      ]
    },
    {
      "cell_type": "markdown",
      "metadata": {
        "id": "9Ep2IuAAB6K6"
      },
      "source": [
        "As you can see, we have created a Python list using the square brackets. Each item in the list is separated by a comma. You can verify whether a value stored in a variable is a list or not using the `type()` function. \n",
        "\n",
        "**Note:** The `type()` function is one of the default functions in python and need not be created."
      ]
    },
    {
      "cell_type": "code",
      "metadata": {
        "id": "WIptCLgQCWkq",
        "colab": {
          "base_uri": "https://localhost:8080/",
          "height": 34
        },
        "outputId": "fc60a2b9-9716-4abc-a0ef-33c69ad40194"
      },
      "source": [
        "# Student Action: Verify whether the 'fifa_wc_winners' is a list or not using the 'type()' function.\n",
        "type(fifa_wc_winners)\n"
      ],
      "execution_count": null,
      "outputs": [
        {
          "output_type": "execute_result",
          "data": {
            "text/plain": [
              "list"
            ]
          },
          "metadata": {
            "tags": []
          },
          "execution_count": 2
        }
      ]
    },
    {
      "cell_type": "markdown",
      "metadata": {
        "id": "z6bJb6BZCi2D"
      },
      "source": [
        "As you can see, the `type()` function has returned `list` as an output which confirms the value stored in the `fifa_wc_winners` variable is indeed a list."
      ]
    },
    {
      "cell_type": "markdown",
      "metadata": {
        "id": "DM52LM5m_paC"
      },
      "source": [
        "---"
      ]
    },
    {
      "cell_type": "markdown",
      "metadata": {
        "id": "xxtMQ0maBN8v"
      },
      "source": [
        "#### Activity 2: The `in` And `not in` Keywords\n",
        "\n",
        "Now, let's learn the `in` and `not in` keywords. The `not in` keyword is used in the `while player_input not in valid_entries` statement.\n",
        "\n",
        "These keywords are used to check whether an item exists in a Python list or not. \n",
        "\n",
        "**The `in` Keyword**\n",
        "\n",
        "If an item exists in a list, then `in` returns `True` otherwise it returns `False`.\n",
        "\n",
        "For example, if you want to check whether the item `'Spain'` exists in the `fifa_wc_winners` list or not, you can use the `in` keyword. If it exists in the list, `in` will return `True` else it will return `False`."
      ]
    },
    {
      "cell_type": "code",
      "metadata": {
        "id": "3mMTK7cXPb6b",
        "colab": {
          "base_uri": "https://localhost:8080/",
          "height": 34
        },
        "outputId": "0212bbcc-e18b-477b-8265-1fc789d4ef98"
      },
      "source": [
        "lst=[1,2,3,4,5,6,7,8,9]\n",
        "9 in lst"
      ],
      "execution_count": null,
      "outputs": [
        {
          "output_type": "execute_result",
          "data": {
            "text/plain": [
              "True"
            ]
          },
          "metadata": {
            "tags": []
          },
          "execution_count": 1
        }
      ]
    },
    {
      "cell_type": "code",
      "metadata": {
        "id": "JHnfoXJ_D0GW"
      },
      "source": [
        "# Student Action: Check whether 'Spain' exists in the 'fifa_wc_winners' list or not.\n",
        "\"Spain\" in fifa_wc_winners"
      ],
      "execution_count": null,
      "outputs": []
    },
    {
      "cell_type": "markdown",
      "metadata": {
        "id": "Mpu9o8_fEAch"
      },
      "source": [
        "**The `not in` Keyword**\n",
        "\n",
        "The `not in` keyword is the exact opposite of the `in` keyword. If an item exists in a list, then `not in` returns `False` otherwise it returns `True`.\n",
        "\n",
        "Using the `not in` keyword, check whether `'Spain'` exists in the `fifa_wc_winners` list or not."
      ]
    },
    {
      "cell_type": "code",
      "metadata": {
        "id": "7IyMql4zJZrU",
        "colab": {
          "base_uri": "https://localhost:8080/",
          "height": 34
        },
        "outputId": "f99f1179-663c-4fb9-8c41-53b0e2468dfb"
      },
      "source": [
        "# Student Action: Check whether 'Spain' exists in the 'fifa_wc_winners' list or not.\n",
        "\"Spain\" not in fifa_wc_winners"
      ],
      "execution_count": null,
      "outputs": [
        {
          "output_type": "execute_result",
          "data": {
            "text/plain": [
              "True"
            ]
          },
          "metadata": {
            "tags": []
          },
          "execution_count": 10
        }
      ]
    },
    {
      "cell_type": "markdown",
      "metadata": {
        "id": "iw19ZgsJJgoO"
      },
      "source": [
        "The `not in` keyword returned `False` which means `Spain` exists in the `fifa_wc_winners` list.\n",
        "\n",
        "Now, create the `valid_entries` variable storing the list `['0', '1']`. Also, ask a player of the Mind Reader game to enter either `0` or `1` and store the input in the `player_input` variable. Then check whether the value stored in the `player_input` variable exists in the `valid_entries` list or not."
      ]
    },
    {
      "cell_type": "code",
      "metadata": {
        "id": "zSMjnUO0W3w5",
        "colab": {
          "base_uri": "https://localhost:8080/",
          "height": 51
        },
        "outputId": "b7612fe4-e62e-440b-ba3c-3934bff7242b"
      },
      "source": [
        "Player_input=input(\"Which Country Have Taj Mahal? \")\n",
        "Answer=[\"INDIA\",\"India\",\"india\"]\n",
        "Player_input in Answer"
      ],
      "execution_count": null,
      "outputs": [
        {
          "output_type": "stream",
          "text": [
            "Which Country Have Taj Mahal? INDIA\n"
          ],
          "name": "stdout"
        },
        {
          "output_type": "execute_result",
          "data": {
            "text/plain": [
              "True"
            ]
          },
          "metadata": {
            "tags": []
          },
          "execution_count": 3
        }
      ]
    },
    {
      "cell_type": "code",
      "metadata": {
        "id": "wehMgS2-K1Ne",
        "colab": {
          "base_uri": "https://localhost:8080/",
          "height": 51
        },
        "outputId": "0d935363-5baf-498f-e221-683d466ac441"
      },
      "source": [
        "# Student Action: Take input from a player and store it in the 'player_input' variable. \n",
        "# Check whether the value stored in the 'player_input' variable exists in the ['0', '1'] list or not using the 'not in' keyword.\n",
        "player_input=input()\n",
        "#player_input=int(player_input)\n",
        "valid_entires=[\"0\",'1']\n",
        "player_input in valid_entires"
      ],
      "execution_count": null,
      "outputs": [
        {
          "output_type": "stream",
          "text": [
            "Kamran\n"
          ],
          "name": "stdout"
        },
        {
          "output_type": "execute_result",
          "data": {
            "text/plain": [
              "False"
            ]
          },
          "metadata": {
            "tags": []
          },
          "execution_count": 15
        }
      ]
    },
    {
      "cell_type": "markdown",
      "metadata": {
        "id": "ApiREfhaLggO"
      },
      "source": [
        "The `not in` keyword returned `False` which confirms that the value stored in the `player_input` variable does exist in the `valid_entries` list."
      ]
    },
    {
      "cell_type": "markdown",
      "metadata": {
        "id": "Yif48zt746J9"
      },
      "source": [
        "---"
      ]
    },
    {
      "cell_type": "markdown",
      "metadata": {
        "id": "E0R38jdqOh4L"
      },
      "source": [
        "#### Activity 3: Infinite `while` Loops^^\n",
        "\n",
        "Now, let's learn about the infinite `while` loop and the `break` keyword because we are using them in the `gameplay()` function.\n",
        "\n",
        "An infinite `while` loop is a never-ending `while` loop. It does not have any stopping condition. In other words, **the condition specified in an infinite `while` loop is always true.** To stop an infinite `while` loop, you have to manually stop it by interrupting the code execution.\n",
        "\n",
        "For example, the `while True` is a never-ending loop. Because the condition `True` is always true. \n",
        "\n",
        "Consider a variable `counter` whose initial value is `0`. Say, if you try to increase the value stored in the `counter` variable using the `while` loop, then the value stored in the `counter` variable will continuously keep increasing unless you stop the loop by pressing the **Stop** button on the left-hand side of the code cell.\n",
        "\n",
        "**Note:** After interrupting the code execution, Python will throw `KeyboardInterrupt` error. Ignore it! It's nothing to worry about."
      ]
    },
    {
      "cell_type": "code",
      "metadata": {
        "id": "g3PiGOTuP5Yb"
      },
      "source": [
        "# Teacher Action: Demonstrate how an infinite 'loop' runs endlessly until the coder interrupts the code execution.\n",
        "c=1\n",
        "while True:\n",
        "  c-=1\n",
        "  print(c)\n",
        " \n"
      ],
      "execution_count": null,
      "outputs": []
    },
    {
      "cell_type": "markdown",
      "metadata": {
        "id": "c_oKwSI8QT4i"
      },
      "source": [
        "As you can see, we had to interrupt the code execution to stop the infinite `while` loop. Let's print the value stored in the `counter` variable. It should contain a very high integer value."
      ]
    },
    {
      "cell_type": "code",
      "metadata": {
        "id": "v4oypjLaQgG2"
      },
      "source": [
        "# Teacher Action: Print the value stored in the 'counter' variable.\n"
      ],
      "execution_count": null,
      "outputs": []
    },
    {
      "cell_type": "markdown",
      "metadata": {
        "id": "M5DEJ9fwQmUo"
      },
      "source": [
        "The value stored in the `counter` variable is a very high integer value because the loop kept increasing the value stored in the `counter` variable more than a million times in just a few seconds. That's the power of an `infinite` while loop. Hence, it must be handled with extreme care otherwise your laptop/desktop will crash if an infinite `while` loop runs for more than a few seconds.\n",
        "\n",
        "Now, you create a `factor` variable and another infinite `while` loop by specifying a condition which is always true. The infinite `while` loop should continuously multiply the value with `2` stored in the `factor` variable.\n",
        "\n",
        "Immediately after executing the code, interrupt the execution by clicking on the **Stop** button on the left-hand side of the code cell. Otherwise, your laptop might crash.\n",
        "\n",
        "**Note:** After interrupting the code execution, Python will throw `KeyboardInterrupt` error. Ignore it! It's nothing to worry about."
      ]
    },
    {
      "cell_type": "code",
      "metadata": {
        "id": "M5TzBOCuR20x"
      },
      "source": [
        "# Student Action: Create an infinite 'while' loop.\n",
        "f=1\n",
        "\n",
        "while True:\n",
        "  f=f+2\n",
        "  print(f)"
      ],
      "execution_count": null,
      "outputs": []
    },
    {
      "cell_type": "markdown",
      "metadata": {
        "id": "arFngYdNS0Fk"
      },
      "source": [
        "The `factor > 0` condition is always true. Hence, there is no stopping condition. So, the `while` loop above will run indefinitely.\n",
        "\n",
        "Now, print the value stored in the `factor` variable."
      ]
    },
    {
      "cell_type": "code",
      "metadata": {
        "id": "5suk_Y16S3uk",
        "colab": {
          "base_uri": "https://localhost:8080/"
        },
        "outputId": "ce32359c-e394-4d38-d352-bff7be69d83b"
      },
      "source": [
        "# Student Action: Print the value stored in the 'factor' variable.\n",
        "print(f)"
      ],
      "execution_count": null,
      "outputs": [
        {
          "output_type": "stream",
          "text": [
            "335133\n"
          ],
          "name": "stdout"
        }
      ]
    },
    {
      "cell_type": "markdown",
      "metadata": {
        "id": "4-zaMd2NS6tI"
      },
      "source": [
        "As you can see, the value stored in the `factor` variable is greater than trillions. That's the power of an infinite `while` loop."
      ]
    },
    {
      "cell_type": "markdown",
      "metadata": {
        "id": "b9NMfS-pOg__"
      },
      "source": [
        "---"
      ]
    },
    {
      "cell_type": "markdown",
      "metadata": {
        "id": "qf_vqTXRVTqH"
      },
      "source": [
        "#### Activity 4: The `break` Keyword^\n",
        "\n",
        "There's another way to stop a loop whether it is an infinite loop or a finite loop. A finite loop executes for a fixed number of times. To stop a loop, use the `break` keyword as it is used in the `gameplay()` function after comparing the values stored in the `player_score` and `computer_score` variables.\n",
        "\n",
        "```\n",
        "def gameplay():\n",
        "  valid_entries = ['0', '1']\n",
        "  while True:\n",
        "    predicted = prediction()\n",
        "    player_input = input(\"Enter either 0 or 1: \")\n",
        "    while player_input not in valid_entries:\n",
        "      print(\"Invalid Input!\")\n",
        "      player_input = input(\"Please enter either 0 or 1: \")\n",
        "  \n",
        "    player_input = int(player_input)\n",
        "    update_counts(player_input)\n",
        "    update_scores(predicted, player_input)\n",
        "\n",
        "    if player_score == 10:\n",
        "      print(\"Congrats, You Won!\")\n",
        "      break\n",
        "    elif computer_score == 10:\n",
        "      print(\"Bad Luck, You Lost!\")\n",
        "      break\n",
        "```\n",
        "\n",
        "The `while` loop stops because of the `break` keyword either when the `player_score` value reaches `50` or the `computer_score` value reaches `50`.\n",
        "\n",
        "Let's stop the infinite `while` loop in the previous code when the `counter` value reaches `1000` using the `break` keyword."
      ]
    },
    {
      "cell_type": "code",
      "metadata": {
        "id": "wgwBShK0hUu4",
        "colab": {
          "base_uri": "https://localhost:8080/",
          "height": 34
        },
        "outputId": "14b1035e-bddd-48b2-d641-fe820d1c93dc"
      },
      "source": [
        "# Teacher Action: Stop the 'while' loop when the 'counter' value reaches 1000, using the 'break' keyword.\n",
        "c=1\n",
        "while True:\n",
        "  c+=1\n",
        "  if c==10000:\n",
        "    break\n",
        "print(c)"
      ],
      "execution_count": null,
      "outputs": [
        {
          "output_type": "stream",
          "text": [
            "10000\n"
          ],
          "name": "stdout"
        }
      ]
    },
    {
      "cell_type": "markdown",
      "metadata": {
        "id": "Ix-ZtufVhx6F"
      },
      "source": [
        "As you can see, the `break` keyword stopped the `while` loop when the `counter` value reached `1000`.\n",
        "\n",
        "Similarly, in your previous infinite `while` loop, you stop the loop when the `factor` value reaches $2^{32} = 4294967296$."
      ]
    },
    {
      "cell_type": "code",
      "metadata": {
        "id": "GQkPhQVmjBBi",
        "colab": {
          "base_uri": "https://localhost:8080/"
        },
        "outputId": "b798d061-2451-42a5-b337-233ea65ae988"
      },
      "source": [
        "# Student Action: Stop the 'while' loop when the 'factor' value reaches 4294967296, using the 'break' keyword.\n",
        "K=1\n",
        "while True:\n",
        "  K*=2\n",
        "  if K==2**32:\n",
        "    break\n",
        "print(K)"
      ],
      "execution_count": null,
      "outputs": [
        {
          "output_type": "stream",
          "text": [
            "4294967296\n"
          ],
          "name": "stdout"
        }
      ]
    },
    {
      "cell_type": "markdown",
      "metadata": {
        "id": "U515DnZDjsv7"
      },
      "source": [
        "So, the `break` keyword stopped the `while` loop when the `factor` value reached $2^{32}$."
      ]
    },
    {
      "cell_type": "markdown",
      "metadata": {
        "id": "v7aD2l3SVS9M"
      },
      "source": [
        "---"
      ]
    },
    {
      "cell_type": "markdown",
      "metadata": {
        "id": "GDhV-c911Omg"
      },
      "source": [
        "#### Activity 5: The Nested `while` Loops^^^\n",
        "\n",
        "The `gameplay()` function works entirely based on a nested `while` loop. The term nested means *something inside something like a gift box inside another gift box.* Refer to the image shown below.\n",
        "\n",
        "<img src='https://student-datasets-bucket.s3.ap-south-1.amazonaws.com/images/nested-boxes.jpg' width=400>\n",
        "\n",
        "Hence, a nested `while` loop means a `while` loop inside another `while` loop.\n",
        "\n",
        "```\n",
        "while True:\n",
        "    predicted = prediction()\n",
        "    player_input = input(\"Enter either 0 or 1: \")\n",
        "    while player_input not in valid_entries:\n",
        "      print(\"Invalid Input!\")\n",
        "      player_input = input(\"Please enter either 0 or 1: \")\n",
        "```\n",
        "\n",
        "The outer `while` loop condition is always true. So, it is an infinite `while` loop. It stops because of the `break` keyword when the `computer_score` and `player_score` values are being compared. Inside the `while` loop, there is a statement: `player_input = input(\"Enter either 0 or 1: \")` followed by another `while` loop which stops when the `player_input` value exists in the `valid_entries` list. Otherwise, the inner `while` loop continuously asks the player to enter either `0` or `1`.\n",
        "\n",
        "Let's try to deeply understand how a nested `while` loop works by creating a multiplication table for `2, 3` and `4`. \n",
        "\n",
        "|2|3|4|\n",
        "|-|-|-|\n",
        "|2 x 1 = 2|3 x 1 = 3|4 x 1 = 4|\n",
        "|2 x 2 = 4|3 x 2 = 6|4 x 2 = 8|\n",
        "|2 x 3 = 6|3 x 3 = 9|4 x 3 = 12|\n",
        "|2 x 4 = 8|3 x 4 = 12|4 x 4 = 16|\n",
        "|2 x 5 = 10|3 x 5 = 15|4 x 5 = 20|\n",
        "|2 x 6 = 12|3 x 6 = 18|4 x 6 = 24|\n",
        "|2 x 7 = 14|3 x 7 = 21|4 x 7 = 28|\n",
        "|2 x 8 = 16|3 x 8 = 24|4 x 8 = 32|\n",
        "|2 x 9 = 18|3 x 9 = 27|4 x 9 = 36|\n",
        "|2 x 10 = 20|3 x 10 = 30|4 x 10 = 40|\n",
        "\n",
        "We need to follow few steps to create the above table. They are:\n",
        "\n",
        "1. Create variable (in this case `first_num`). Set it's initial value to `2`. It's value should go between `2, 3,` and `4`.\n",
        "\n",
        "2. Create a `while` loop with the condition `while first_num < 5`. The values of `first_num` should go from `2` to `4`. Inside the `while` loop, \n",
        "\n",
        "    - Create another variable with a name `sec_num`. Set its initial value equal to `1`.\n",
        "\n",
        "    - Create another `while` loop with the condition `while sec_num < 11`. The values of `sec_num` should go from `1` to `10` for every `first_num` value, i.e, `2, 3` and `4`. Inside the second `while` loop,\n",
        "\n",
        "        - Multiply the values of the `sec_num` variable with the `first_num` variable to generate the first `10` multiples of `2, 3` and `4`. Store the product in a variable with name `multiple`.\n",
        "\n",
        "        - Print the value stored in the `first_num, sec_num` and `multiple` variables in such a way that the output is in the `first_num x sec_num = multiple` format. \n",
        "\n",
        "        - Increase the value stored in the `sec_num` variable by `1` so that they can go from `1` to `10`.\n",
        "\n",
        "    - Exit from the inner `while` loop and increase the value stored in the `first_num` variable so that they can go from `2` to `4`.\n",
        "\n"
      ]
    },
    {
      "cell_type": "code",
      "metadata": {
        "id": "HMdfqHhbYHTO",
        "colab": {
          "base_uri": "https://localhost:8080/"
        },
        "outputId": "0e6eca3a-5c88-429e-f5cc-9ab6f5cd932c"
      },
      "source": [
        "# Student Action: Use a nested 'while' loop and generate a mutiplication table for 2, 3 and 4.\n",
        "a=2\n",
        "while a<5:\n",
        "  B=1\n",
        "  while B<=10:\n",
        "    print(a,'x',B,'=',a*B)\n",
        "    B+=1\n",
        "  print()\n",
        "  a+=1"
      ],
      "execution_count": null,
      "outputs": [
        {
          "output_type": "stream",
          "text": [
            "2 x 1 = 2\n",
            "2 x 2 = 4\n",
            "2 x 3 = 6\n",
            "2 x 4 = 8\n",
            "2 x 5 = 10\n",
            "2 x 6 = 12\n",
            "2 x 7 = 14\n",
            "2 x 8 = 16\n",
            "2 x 9 = 18\n",
            "2 x 10 = 20\n",
            "\n",
            "3 x 1 = 3\n",
            "3 x 2 = 6\n",
            "3 x 3 = 9\n",
            "3 x 4 = 12\n",
            "3 x 5 = 15\n",
            "3 x 6 = 18\n",
            "3 x 7 = 21\n",
            "3 x 8 = 24\n",
            "3 x 9 = 27\n",
            "3 x 10 = 30\n",
            "\n",
            "4 x 1 = 4\n",
            "4 x 2 = 8\n",
            "4 x 3 = 12\n",
            "4 x 4 = 16\n",
            "4 x 5 = 20\n",
            "4 x 6 = 24\n",
            "4 x 7 = 28\n",
            "4 x 8 = 32\n",
            "4 x 9 = 36\n",
            "4 x 10 = 40\n",
            "\n"
          ],
          "name": "stdout"
        }
      ]
    },
    {
      "cell_type": "markdown",
      "metadata": {
        "id": "LKKZN2LDuU-d"
      },
      "source": [
        "In the above code,\n",
        "\n",
        "1. The outer `while` loop runs thrice because the values of the `first_num` variable go from `2` to `4` as a result of the condition `while first_num < 5`.\n",
        "\n",
        "2. For every value of the `first_num` variable, the inner `while` loop runs `10` times because the values of the `sec_num` variable go from `1` to `10` as a result of the condition `while sec_num < 11`. \n",
        "\n",
        "3. Every value of the `sec_num` variable gets multiplied with the value of the `first_num` variable and gets stored in the `multiply` variable because of the `multiply = first_num * sec_num` statement.\n",
        "\n",
        "4. The `print()` function inside the inner `while` loop, prints the values of the `multiple` variable one-by-one.\n",
        "\n",
        "5. The `sec_num = sec_num + 1` statement increases the value of the `sec_num` variable by `1` unit. The inner `while` loop reaches its stopping condition because of this statement.\n",
        "\n",
        "6. The `first_num = first_num + 1` statement increases the value of the `first_num` variable by `1` unit. The outer `while` loop reaches its stopping condition because of this statement.\n",
        "\n",
        "So, we have covered all the ingredients and recipe for the `gameplay()` function. Hopefully, you understood how this function works.\n",
        "\n",
        "This is it for now. In the next class, we will learn more about Python lists. We will also create a better version of the Mind Reader game algorithm (that we created in the last class) using the Python list concepts.\n",
        "\n",
        "**Note:** You can now attempt the first project on your own."
      ]
    },
    {
      "cell_type": "markdown",
      "metadata": {
        "id": "OKJ5eeh8keWY"
      },
      "source": [
        "---"
      ]
    }
  ]
}